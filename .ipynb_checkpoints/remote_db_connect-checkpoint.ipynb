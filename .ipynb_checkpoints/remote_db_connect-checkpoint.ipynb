{
 "cells": [
  {
   "cell_type": "code",
   "execution_count": 1,
   "metadata": {},
   "outputs": [],
   "source": [
    "from os import listdir\n",
    "import re\n",
    "import chardet\n",
    "import pandas as pd\n",
    "import datetime\n",
    "from city import City\n",
    "import mysql.connector\n",
    "from mysql.connector.cursor import MySQLCursorPrepared\n",
    "import json"
   ]
  },
  {
   "cell_type": "code",
   "execution_count": null,
   "metadata": {},
   "outputs": [],
   "source": [
    "df = pd.read_csv(\"cities15000.csv\", sep=\"\\t\", header=None)\n",
    "df[df[5] > 100].head()"
   ]
  },
  {
   "cell_type": "code",
   "execution_count": null,
   "metadata": {},
   "outputs": [],
   "source": [
    "df.rename(columns={1:'AccentCity'}, inplace=True)\n",
    "df.rename(columns={4:'Latitude'}, inplace=True)\n",
    "df.rename(columns={5:'Longitude'}, inplace=True)\n",
    "df.head(1)"
   ]
  },
  {
   "cell_type": "code",
   "execution_count": null,
   "metadata": {},
   "outputs": [],
   "source": [
    "con = mysql.connector.connect(\n",
    "    host=\"localhost\",\n",
    "    user=\"dbexamuser\",\n",
    "    database=\"examdb\",\n",
    "    passwd=\"dbExam.group7\",\n",
    "    use_pure=True,\n",
    ")\n",
    "print(\"con created\")\n",
    "con.autocommit = False\n",
    "mycursor = con.cursor(cursor_class=MySQLCursorPrepared)\n",
    "print(con)"
   ]
  },
  {
   "cell_type": "code",
   "execution_count": null,
   "metadata": {},
   "outputs": [],
   "source": [
    "def insert_cities():\n",
    "    now = datetime.datetime.now()\n",
    "    large_sql = \"\"\n",
    "    counter = 1\n",
    "    interval_counter = 0\n",
    "    interval = 1000\n",
    "    \n",
    "    for i, row in df.iterrows():\n",
    "        city_name = row[\"AccentCity\"]\n",
    "        city_long = row[\"Longitude\"]\n",
    "        city_lat = row[\"Latitude\"]\n",
    "        sql = \"\"\"\n",
    "            INSERT INTO examdb.cities \n",
    "            (name, latitude, longtitude) \n",
    "            VALUES (%s, %s , %s);\n",
    "            \"\"\"\n",
    "        \n",
    "        insert_values = (city_name, city_lat, city_long)\n",
    "        \n",
    "        mycursor.execute(sql, insert_values)\n",
    "        #print(mycursor.statement)\n",
    "        #print(sql % insert_values)\n",
    "        \n",
    "        if (counter >= interval_counter + interval):\n",
    "            con.commit()\n",
    "            interval_counter += interval\n",
    "            print(counter)\n",
    "            \n",
    "        counter += 1\n",
    "        \n",
    "    #print(large_sql)\n",
    "    #mycursor.execute(large_sql, multi = True)\n",
    "    con.commit()\n",
    "    \n",
    "    time_diff = datetime.datetime.now() - now\n",
    "    print(time_diff.total_seconds())\n",
    "\n",
    "insert_cities()"
   ]
  },
  {
   "cell_type": "code",
   "execution_count": null,
   "metadata": {},
   "outputs": [],
   "source": [
    "print(\"done\")"
   ]
  },
  {
   "cell_type": "code",
   "execution_count": null,
   "metadata": {},
   "outputs": [],
   "source": [
    "con.close()\n",
    "mycursor.close()"
   ]
  },
  {
   "cell_type": "code",
   "execution_count": null,
   "metadata": {},
   "outputs": [],
   "source": []
  },
  {
   "cell_type": "code",
   "execution_count": null,
   "metadata": {},
   "outputs": [],
   "source": []
  },
  {
   "cell_type": "code",
   "execution_count": 41,
   "metadata": {},
   "outputs": [
    {
     "data": {
      "text/plain": [
       "'tile'"
      ]
     },
     "execution_count": 41,
     "metadata": {},
     "output_type": "execute_result"
    }
   ],
   "source": [
    "book = {\n",
    "    \"title\":\"tile\", \n",
    "    \"author\":\"auhor\",\n",
    "    \"city_names\":[\"London\",\"Paris\",\"Berlin\"],\n",
    "}\n",
    "book[\"title\"]"
   ]
  },
  {
   "cell_type": "code",
   "execution_count": 45,
   "metadata": {},
   "outputs": [
    {
     "name": "stdout",
     "output_type": "stream",
     "text": [
      "<mysql.connector.connection.MySQLConnection object at 0x7fe330f35e80>\n"
     ]
    }
   ],
   "source": [
    "con = mysql.connector.connect(\n",
    "    host=\"localhost\",\n",
    "    user=\"dbexamuser\",\n",
    "    database=\"examdb\",\n",
    "    passwd=\"dbExam.group7\",\n",
    "    use_pure=True,\n",
    ")\n",
    "con.autocommit = False\n",
    "mycursor = con.cursor(cursor_class=MySQLCursorPrepared)\n",
    "print(con)"
   ]
  },
  {
   "cell_type": "code",
   "execution_count": 46,
   "metadata": {},
   "outputs": [
    {
     "name": "stdout",
     "output_type": "stream",
     "text": [
      "6\n",
      "0.002856\n"
     ]
    }
   ],
   "source": [
    "\n",
    "\n",
    "sql = \"call insert_book(%s, %s);\"\n",
    "\n",
    "insert_values = (book[\"title\"], book[\"author\"])\n",
    "\n",
    "now = datetime.datetime.now()\n",
    "\n",
    "mycursor.execute(sql, insert_values)\n",
    "\n",
    "bookid = mycursor.fetchone()[0]\n",
    "\n",
    "\n",
    "con.commit()\n",
    "\n",
    "time_diff = datetime.datetime.now() - now\n",
    "print(time_diff.total_seconds())\n"
   ]
  },
  {
   "cell_type": "code",
   "execution_count": 34,
   "metadata": {},
   "outputs": [
    {
     "name": "stdout",
     "output_type": "stream",
     "text": [
      "done\n"
     ]
    }
   ],
   "source": [
    "print(\"done\")"
   ]
  },
  {
   "cell_type": "code",
   "execution_count": 40,
   "metadata": {},
   "outputs": [],
   "source": [
    "con.close()\n",
    "mycursor.close()"
   ]
  },
  {
   "cell_type": "code",
   "execution_count": null,
   "metadata": {},
   "outputs": [],
   "source": []
  }
 ],
 "metadata": {
  "kernelspec": {
   "display_name": "Python 3",
   "language": "python",
   "name": "python3"
  },
  "language_info": {
   "codemirror_mode": {
    "name": "ipython",
    "version": 3
   },
   "file_extension": ".py",
   "mimetype": "text/x-python",
   "name": "python",
   "nbconvert_exporter": "python",
   "pygments_lexer": "ipython3",
   "version": "3.6.7"
  }
 },
 "nbformat": 4,
 "nbformat_minor": 2
}
