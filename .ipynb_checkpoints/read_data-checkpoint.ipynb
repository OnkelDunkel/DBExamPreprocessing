{
 "cells": [
  {
   "cell_type": "code",
   "execution_count": null,
   "metadata": {},
   "outputs": [],
   "source": [
    "from os import listdir\n",
    "import re\n",
    "import chardet\n",
    "import pandas as pd"
   ]
  },
  {
   "cell_type": "code",
   "execution_count": null,
   "metadata": {},
   "outputs": [],
   "source": [
    "df = pd.read_csv(\"worldcitiespop.csv\")"
   ]
  },
  {
   "cell_type": "code",
   "execution_count": null,
   "metadata": {},
   "outputs": [],
   "source": [
    "df = df.sort_values([\"Population\"], ascending=False)\n",
    "df = df.drop_duplicates(subset=[\"AccentCity\"], keep=\"first\")"
   ]
  },
  {
   "cell_type": "code",
   "execution_count": null,
   "metadata": {},
   "outputs": [],
   "source": [
    "all_cities = set(df[\"AccentCity\"])"
   ]
  },
  {
   "cell_type": "code",
   "execution_count": null,
   "metadata": {},
   "outputs": [],
   "source": [
    "def extract_cities(file_text):\n",
    "    word_list = re.sub(\"[^\\w]\", \" \",  file_text).split()\n",
    "    return list(all_cities.intersection(word_list))"
   ]
  },
  {
   "cell_type": "code",
   "execution_count": null,
   "metadata": {},
   "outputs": [],
   "source": [
    "def extract_details(file_text):\n",
    "    re_patterns = [\n",
    "        \"[ ]{0,4}Title: (.+)\\n\\n[ ]{0,4}Author: ([^\\n]+)\\n\",\n",
    "        \"  We need your donations.\\n\\n\\n([^\\n]+)\\n\\nby ([^\\n]+)\\n\\n\",\n",
    "        \"\\n\\nTitle: (.+)\\nAuthor: (.+)\\nRelease Date: \",\n",
    "        \"\\n\\n\\n\\n\\n\\n[\\d]{4}\\n\\n()\\n\\nby ()\\n\\n\\nDramatis Personae\",\n",
    "    ]\n",
    "\n",
    "    title = None\n",
    "    author = None\n",
    "\n",
    "    for pattern in re_patterns:\n",
    "        try:\n",
    "            result = re.search(pattern, file_text, re.DOTALL)\n",
    "            title = result.group(1)\n",
    "            author = result.group(2)\n",
    "            break\n",
    "        except:\n",
    "            continue\n",
    "    \n",
    "    return title, author"
   ]
  },
  {
   "cell_type": "code",
   "execution_count": null,
   "metadata": {},
   "outputs": [],
   "source": [
    "extract_cities(\"Paris is better than London\")"
   ]
  },
  {
   "cell_type": "code",
   "execution_count": null,
   "metadata": {},
   "outputs": [],
   "source": [
    "txt_files = [f for f in listdir() if f.endswith(\".txt\")]\n",
    "#txt_files = [txt_files[0]]\n",
    "success = 0\n",
    "fail = 0\n",
    "\n",
    "encoding_failed = []\n",
    "regex_failed = []\n",
    "\n",
    "books = []\n",
    "\n",
    "for file_name in txt_files:\n",
    "    \n",
    "    with open(file_name, 'r') as file:\n",
    "        \n",
    "        try:\n",
    "            file_text = file.read()\n",
    "            \n",
    "            title, author = extract_details(file_text)\n",
    "            \n",
    "            if author == None or title == None:\n",
    "                print(file_name + \"******REGEX*************************************************\")\n",
    "                fail += 1\n",
    "                regex_failed.append(file_name)\n",
    "                continue\n",
    "            \n",
    "            print(file_name)\n",
    "            print(\"TITLE: \" + title)\n",
    "            print(\"AUTHOR: \" + author + \"\\n\")\n",
    "            \n",
    "            cities = extract_cities(file_text)\n",
    "            \n",
    "            success += 1\n",
    "                \n",
    "        except:\n",
    "            print(file_name + \"********ENCODING***********************************************\")\n",
    "            fail += 1\n",
    "            encoding_failed.append(file_name)\n",
    "\n",
    "print(\"Succes: \" + str(success))\n",
    "print(\"Fail: \" + str(fail))\n",
    "print(\"regex_errors: \" + str(len(regex_failed)))\n",
    "print(\"encoding_error: \" + str(len(encoding_failed)))\n",
    "print(\"Total: \" + str(len(txt_files)))"
   ]
  },
  {
   "cell_type": "code",
   "execution_count": null,
   "metadata": {},
   "outputs": [],
   "source": [
    "regex_failed"
   ]
  },
  {
   "cell_type": "code",
   "execution_count": null,
   "metadata": {},
   "outputs": [],
   "source": [
    "encoding_failed"
   ]
  },
  {
   "cell_type": "code",
   "execution_count": null,
   "metadata": {},
   "outputs": [],
   "source": [
    "df[df[\"AccentCity\"] == \"Service\"]"
   ]
  },
  {
   "cell_type": "code",
   "execution_count": null,
   "metadata": {},
   "outputs": [],
   "source": [
    "df[df[\"Population\"].notna()].count()[0]"
   ]
  },
  {
   "cell_type": "code",
   "execution_count": null,
   "metadata": {},
   "outputs": [],
   "source": [
    "df[df[\"AccentCity\"] == \"Sandwich\"]"
   ]
  },
  {
   "cell_type": "code",
   "execution_count": null,
   "metadata": {},
   "outputs": [],
   "source": [
    "#df[[row for i, row in df.iterrows() if len(row[\"AccentCity\"]) < 5]]"
   ]
  },
  {
   "cell_type": "code",
   "execution_count": null,
   "metadata": {},
   "outputs": [],
   "source": []
  }
 ],
 "metadata": {
  "kernelspec": {
   "display_name": "Python 3",
   "language": "python",
   "name": "python3"
  },
  "language_info": {
   "codemirror_mode": {
    "name": "ipython",
    "version": 3
   },
   "file_extension": ".py",
   "mimetype": "text/x-python",
   "name": "python",
   "nbconvert_exporter": "python",
   "pygments_lexer": "ipython3",
   "version": "3.6.7"
  }
 },
 "nbformat": 4,
 "nbformat_minor": 2
}
