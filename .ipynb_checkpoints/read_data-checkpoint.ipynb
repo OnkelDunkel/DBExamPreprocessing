{
 "cells": [
  {
   "cell_type": "code",
   "execution_count": 4,
   "metadata": {},
   "outputs": [],
   "source": [
    "from os import listdir\n",
    "import re\n",
    "import chardet\n",
    "import pandas as pd\n",
    "import datetime\n",
    "from city import City\n",
    "import mysql.connector"
   ]
  },
  {
   "cell_type": "code",
   "execution_count": 5,
   "metadata": {},
   "outputs": [],
   "source": [
    "now = datetime.datetime.now()"
   ]
  },
  {
   "cell_type": "code",
   "execution_count": 6,
   "metadata": {},
   "outputs": [
    {
     "name": "stderr",
     "output_type": "stream",
     "text": [
      "/usr/lib/python3/dist-packages/IPython/core/interactiveshell.py:2718: DtypeWarning: Columns (3) have mixed types. Specify dtype option on import or set low_memory=False.\n",
      "  interactivity=interactivity, compiler=compiler, result=result)\n"
     ]
    },
    {
     "data": {
      "text/html": [
       "<div>\n",
       "<style scoped>\n",
       "    .dataframe tbody tr th:only-of-type {\n",
       "        vertical-align: middle;\n",
       "    }\n",
       "\n",
       "    .dataframe tbody tr th {\n",
       "        vertical-align: top;\n",
       "    }\n",
       "\n",
       "    .dataframe thead th {\n",
       "        text-align: right;\n",
       "    }\n",
       "</style>\n",
       "<table border=\"1\" class=\"dataframe\">\n",
       "  <thead>\n",
       "    <tr style=\"text-align: right;\">\n",
       "      <th></th>\n",
       "      <th>Country</th>\n",
       "      <th>City</th>\n",
       "      <th>AccentCity</th>\n",
       "      <th>Region</th>\n",
       "      <th>Population</th>\n",
       "      <th>Latitude</th>\n",
       "      <th>Longitude</th>\n",
       "    </tr>\n",
       "  </thead>\n",
       "  <tbody>\n",
       "    <tr>\n",
       "      <th>0</th>\n",
       "      <td>ad</td>\n",
       "      <td>aixas</td>\n",
       "      <td>Aixàs</td>\n",
       "      <td>6</td>\n",
       "      <td>NaN</td>\n",
       "      <td>42.483333</td>\n",
       "      <td>1.466667</td>\n",
       "    </tr>\n",
       "  </tbody>\n",
       "</table>\n",
       "</div>"
      ],
      "text/plain": [
       "  Country   City AccentCity Region  Population   Latitude  Longitude\n",
       "0      ad  aixas      Aixàs      6         NaN  42.483333   1.466667"
      ]
     },
     "execution_count": 6,
     "metadata": {},
     "output_type": "execute_result"
    }
   ],
   "source": [
    "df = pd.read_csv(\"worldcitiespop.csv\")\n",
    "df.head(1)"
   ]
  },
  {
   "cell_type": "code",
   "execution_count": 7,
   "metadata": {},
   "outputs": [
    {
     "data": {
      "text/plain": [
       "3173958"
      ]
     },
     "execution_count": 7,
     "metadata": {},
     "output_type": "execute_result"
    }
   ],
   "source": [
    "df.count()[0]"
   ]
  },
  {
   "cell_type": "code",
   "execution_count": 8,
   "metadata": {},
   "outputs": [
    {
     "data": {
      "text/plain": [
       "3173958"
      ]
     },
     "execution_count": 8,
     "metadata": {},
     "output_type": "execute_result"
    }
   ],
   "source": [
    "df = df[df[\"AccentCity\"].notna()]\n",
    "df = df[df[\"Latitude\"].notna()]\n",
    "df = df[df[\"Longitude\"].notna()]\n",
    "df.count()[0]"
   ]
  },
  {
   "cell_type": "code",
   "execution_count": 9,
   "metadata": {},
   "outputs": [],
   "source": [
    "df = df.sort_values([\"Population\"], ascending=False)\n",
    "df = df.drop_duplicates(subset=[\"AccentCity\"], keep=\"first\")"
   ]
  },
  {
   "cell_type": "code",
   "execution_count": 10,
   "metadata": {},
   "outputs": [],
   "source": [
    "all_cities = set(df[\"AccentCity\"])"
   ]
  },
  {
   "cell_type": "code",
   "execution_count": 11,
   "metadata": {},
   "outputs": [],
   "source": [
    "def extract_cities(file_text):\n",
    "    word_list = re.sub(\"[^\\w]\", \" \",  file_text).split()\n",
    "    return list(all_cities.intersection(word_list))"
   ]
  },
  {
   "cell_type": "code",
   "execution_count": 12,
   "metadata": {},
   "outputs": [],
   "source": [
    "def extract_details(file_text):\n",
    "    re_patterns = [\n",
    "        \"[ ]{0,4}Title: (.+)\\n\\n[ ]{0,4}Author: ([^\\n]+)\\n\",\n",
    "        \"  We need your donations.\\n\\n\\n([^\\n]+)\\n\\nby ([^\\n]+)\\n\\n\",\n",
    "        \"\\n\\nTitle: (.+)\\nAuthor: (.+)\\nRelease Date: \",\n",
    "        \"\\n\\n\\n\\n\\n\\n[\\d]{4}\\n\\n()\\n\\nby ()\\n\\n\\nDramatis Personae\",\n",
    "    ]\n",
    "\n",
    "    title = None\n",
    "    author = None\n",
    "\n",
    "    for pattern in re_patterns:\n",
    "        try:\n",
    "            result = re.search(pattern, file_text, re.DOTALL)\n",
    "            title = result.group(1)\n",
    "            author = result.group(2)\n",
    "            break\n",
    "        except:\n",
    "            continue\n",
    "    \n",
    "    return title, author"
   ]
  },
  {
   "cell_type": "code",
   "execution_count": null,
   "metadata": {},
   "outputs": [],
   "source": [
    "txt_files = [f for f in listdir() if f.endswith(\".txt\")]\n",
    "#txt_files = [txt_files[0]]\n",
    "success = 0\n",
    "fail = 0\n",
    "\n",
    "encoding_failed = []\n",
    "regex_failed = []\n",
    "\n",
    "books = []\n",
    "\n",
    "for file_name in txt_files:\n",
    "    \n",
    "    with open(file_name, 'r') as file:\n",
    "        \n",
    "        try:\n",
    "            file_text = file.read()\n",
    "            \n",
    "            title, author = extract_details(file_text)\n",
    "            \n",
    "            if author == None or title == None:\n",
    "                print(file_name + \"******REGEX*************************************************\")\n",
    "                fail += 1\n",
    "                regex_failed.append(file_name)\n",
    "                continue\n",
    "            \n",
    "            print(file_name)\n",
    "            print(\"TITLE: \" + title)\n",
    "            print(\"AUTHOR: \" + author + \"\\n\")\n",
    "            \n",
    "            cities = extract_cities(file_text)\n",
    "            \n",
    "            \n",
    "            success += 1\n",
    "                \n",
    "        except:\n",
    "            print(file_name + \"********ENCODING***********************************************\")\n",
    "            fail += 1\n",
    "            encoding_failed.append(file_name)\n",
    "\n",
    "print(\"Succes: \" + str(success))\n",
    "print(\"Fail: \" + str(fail))\n",
    "print(\"regex_errors: \" + str(len(regex_failed)))\n",
    "print(\"encoding_error: \" + str(len(encoding_failed)))\n",
    "print(\"Total: \" + str(len(txt_files)))"
   ]
  },
  {
   "cell_type": "code",
   "execution_count": null,
   "metadata": {},
   "outputs": [],
   "source": [
    "regex_failed[:10]"
   ]
  },
  {
   "cell_type": "code",
   "execution_count": null,
   "metadata": {},
   "outputs": [],
   "source": [
    "encoding_failed[:10]"
   ]
  },
  {
   "cell_type": "code",
   "execution_count": null,
   "metadata": {},
   "outputs": [],
   "source": [
    "time_diff = datetime.datetime.now() - now\n",
    "time_diff.total_seconds() / 60"
   ]
  },
  {
   "cell_type": "code",
   "execution_count": null,
   "metadata": {},
   "outputs": [],
   "source": [
    "c = City(1, \"Berlin\", 2, 2)\n",
    "\n",
    "print(c.stringify())"
   ]
  },
  {
   "cell_type": "code",
   "execution_count": 79,
   "metadata": {},
   "outputs": [
    {
     "name": "stdout",
     "output_type": "stream",
     "text": [
      "<mysql.connector.connection.MySQLConnection object at 0x7f436118ba58>\n"
     ]
    }
   ],
   "source": [
    "con = mysql.connector.connect(\n",
    "    host=\"localhost\",\n",
    "    user=\"dbexamuser\",\n",
    "    database=\"examdb\",\n",
    "    passwd=\"dbExam.group7\"\n",
    ")\n",
    "con.autocommit = False\n",
    "mycursor = con.cursor(prepared=True)\n",
    "print(con) "
   ]
  },
  {
   "cell_type": "code",
   "execution_count": 81,
   "metadata": {
    "scrolled": true
   },
   "outputs": [
    {
     "ename": "ProgrammingError",
     "evalue": "1210: Incorrect number of arguments executing prepared statement",
     "output_type": "error",
     "traceback": [
      "\u001b[0;31m---------------------------------------------------------------------------\u001b[0m",
      "\u001b[0;31mProgrammingError\u001b[0m                          Traceback (most recent call last)",
      "\u001b[0;32m<ipython-input-81-1b2f4b305c8d>\u001b[0m in \u001b[0;36m<module>\u001b[0;34m()\u001b[0m\n\u001b[1;32m     37\u001b[0m     \u001b[0mprint\u001b[0m\u001b[0;34m(\u001b[0m\u001b[0mtime_diff\u001b[0m\u001b[0;34m.\u001b[0m\u001b[0mtotal_seconds\u001b[0m\u001b[0;34m(\u001b[0m\u001b[0;34m)\u001b[0m\u001b[0;34m)\u001b[0m\u001b[0;34m\u001b[0m\u001b[0;34m\u001b[0m\u001b[0m\n\u001b[1;32m     38\u001b[0m \u001b[0;34m\u001b[0m\u001b[0m\n\u001b[0;32m---> 39\u001b[0;31m \u001b[0minsert_cities\u001b[0m\u001b[0;34m(\u001b[0m\u001b[0;34m)\u001b[0m\u001b[0;34m\u001b[0m\u001b[0;34m\u001b[0m\u001b[0m\n\u001b[0m",
      "\u001b[0;32m<ipython-input-81-1b2f4b305c8d>\u001b[0m in \u001b[0;36minsert_cities\u001b[0;34m()\u001b[0m\n\u001b[1;32m     20\u001b[0m \u001b[0;34m\u001b[0m\u001b[0m\n\u001b[1;32m     21\u001b[0m         \u001b[0;31m#print(sql % insert_values)\u001b[0m\u001b[0;34m\u001b[0m\u001b[0;34m\u001b[0m\u001b[0;34m\u001b[0m\u001b[0m\n\u001b[0;32m---> 22\u001b[0;31m         \u001b[0mmycursor\u001b[0m\u001b[0;34m.\u001b[0m\u001b[0mexecute\u001b[0m\u001b[0;34m(\u001b[0m\u001b[0msql\u001b[0m\u001b[0;34m,\u001b[0m \u001b[0minsert_values\u001b[0m\u001b[0;34m)\u001b[0m\u001b[0;34m\u001b[0m\u001b[0;34m\u001b[0m\u001b[0m\n\u001b[0m\u001b[1;32m     23\u001b[0m         \u001b[0;31m#print(mycursor.lastrowid)\u001b[0m\u001b[0;34m\u001b[0m\u001b[0;34m\u001b[0m\u001b[0;34m\u001b[0m\u001b[0m\n\u001b[1;32m     24\u001b[0m \u001b[0;34m\u001b[0m\u001b[0m\n",
      "\u001b[0;32m/home/bob/.local/lib/python3.6/site-packages/mysql/connector/cursor.py\u001b[0m in \u001b[0;36mexecute\u001b[0;34m(self, operation, params, multi)\u001b[0m\n\u001b[1;32m   1150\u001b[0m             raise errors.ProgrammingError(\n\u001b[1;32m   1151\u001b[0m                 \u001b[0merrno\u001b[0m\u001b[0;34m=\u001b[0m\u001b[0;36m1210\u001b[0m\u001b[0;34m,\u001b[0m\u001b[0;34m\u001b[0m\u001b[0;34m\u001b[0m\u001b[0m\n\u001b[0;32m-> 1152\u001b[0;31m                 \u001b[0mmsg\u001b[0m\u001b[0;34m=\u001b[0m\u001b[0;34m\"Incorrect number of arguments \"\u001b[0m\u001b[0;31m \u001b[0m\u001b[0;31m\\\u001b[0m\u001b[0;34m\u001b[0m\u001b[0;34m\u001b[0m\u001b[0m\n\u001b[0m\u001b[1;32m   1153\u001b[0m                     \"executing prepared statement\")\n\u001b[1;32m   1154\u001b[0m \u001b[0;34m\u001b[0m\u001b[0m\n",
      "\u001b[0;31mProgrammingError\u001b[0m: 1210: Incorrect number of arguments executing prepared statement"
     ]
    }
   ],
   "source": [
    "def insert_cities():\n",
    "    now = datetime.datetime.now()\n",
    "    large_sql = \"\"\n",
    "    counter = 1\n",
    "    interval_counter = 0\n",
    "    interval = 1000\n",
    "    \n",
    "    for i, row in df[:1000].iterrows():\n",
    "        city_name = row[\"AccentCity\"]\n",
    "        city_long = row[\"Longitude\"]\n",
    "        city_lat = row[\"Latitude\"]\n",
    "        #print(city_name)\n",
    "        #print(city_long)\n",
    "        #print(city_lat)\n",
    "        sql = \"INSERT INTO examdb.cities (name, location) VALUES ('%s', Point(%s, %s));\"\n",
    "        #sql = \"INSERT INTO authors (name) VALUES ('bob');\"\n",
    "        #large_sql += sql\n",
    "        \n",
    "        insert_values = (city_name, city_long, city_lat)\n",
    "        \n",
    "        #print(sql % insert_values)\n",
    "        mycursor.execute(sql % insert_values)\n",
    "        #print(mycursor.lastrowid)\n",
    "        \n",
    "        if (counter >= interval_counter + interval):\n",
    "            con.commit()\n",
    "            interval_counter += interval\n",
    "            print(counter)\n",
    "            \n",
    "        counter += 1\n",
    "        \n",
    "    #print(large_sql)\n",
    "    #mycursor.execute(large_sql, multi = True)\n",
    "    con.commit()\n",
    "    \n",
    "    time_diff = datetime.datetime.now() - now\n",
    "    print(time_diff.total_seconds())\n",
    "\n",
    "insert_cities()"
   ]
  },
  {
   "cell_type": "code",
   "execution_count": 77,
   "metadata": {},
   "outputs": [
    {
     "name": "stdout",
     "output_type": "stream",
     "text": [
      "done\n"
     ]
    }
   ],
   "source": [
    "print(\"done\")"
   ]
  },
  {
   "cell_type": "code",
   "execution_count": 74,
   "metadata": {},
   "outputs": [],
   "source": [
    "con.close()\n",
    "mycursor.close()"
   ]
  },
  {
   "cell_type": "code",
   "execution_count": null,
   "metadata": {},
   "outputs": [],
   "source": []
  },
  {
   "cell_type": "code",
   "execution_count": null,
   "metadata": {},
   "outputs": [],
   "source": []
  }
 ],
 "metadata": {
  "kernelspec": {
   "display_name": "Python 3",
   "language": "python",
   "name": "python3"
  },
  "language_info": {
   "codemirror_mode": {
    "name": "ipython",
    "version": 3
   },
   "file_extension": ".py",
   "mimetype": "text/x-python",
   "name": "python",
   "nbconvert_exporter": "python",
   "pygments_lexer": "ipython3",
   "version": "3.6.7"
  }
 },
 "nbformat": 4,
 "nbformat_minor": 2
}
