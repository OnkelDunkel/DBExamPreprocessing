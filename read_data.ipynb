{
 "cells": [
  {
   "cell_type": "markdown",
   "metadata": {},
   "source": [
    "\n",
    "    pip(3) install spacy\n",
    "    python -m spacy download en_core_web_sm\n"
   ]
  },
  {
   "cell_type": "code",
   "execution_count": 54,
   "metadata": {},
   "outputs": [],
   "source": [
    "from os import listdir\n",
    "import en_core_web_sm\n",
    "import datetime\n",
    "import re\n",
    "import json"
   ]
  },
  {
   "cell_type": "code",
   "execution_count": 55,
   "metadata": {},
   "outputs": [],
   "source": [
    "def get_city_names(text):\n",
    "    global nlp\n",
    "    \n",
    "    doc = nlp(text)\n",
    "    locs = []\n",
    "    \n",
    "    for ent in doc.ents:\n",
    "        if ent.label_ == \"GPE\":\n",
    "            locs.append(ent.text)\n",
    "            \n",
    "    return locs"
   ]
  },
  {
   "cell_type": "code",
   "execution_count": 56,
   "metadata": {},
   "outputs": [],
   "source": [
    "def create_chunks(file_text, size):\n",
    "    global max_file_length\n",
    "    \n",
    "    return [file_text[i:i+size] for i in range(0, len(file_text), size)]"
   ]
  },
  {
   "cell_type": "code",
   "execution_count": 57,
   "metadata": {},
   "outputs": [],
   "source": [
    "def extract_details(file_text):\n",
    "    re_patterns = [\n",
    "        \"[ ]{0,4}Title: (.+)\\n\\n[ ]{0,4}Author: ([^\\n]+)\\n\",\n",
    "        \"  We need your donations.\\n\\n\\n([^\\n]+)\\n\\nby ([^\\n]+)\\n\\n\",\n",
    "        \"\\n\\nTitle: (.+)\\nAuthor: (.+)\\nRelease Date: \",\n",
    "        \"\\n\\n\\n\\n\\n\\n[\\d]{4}\\n\\n()\\n\\nby ()\\n\\n\\nDramatis Personae\",\n",
    "    ]\n",
    "\n",
    "    title = None\n",
    "    author = None\n",
    "\n",
    "    for pattern in re_patterns:\n",
    "        try:\n",
    "            result = re.search(pattern, file_text, re.DOTALL)\n",
    "            title = result.group(1)\n",
    "            author = result.group(2)\n",
    "            break\n",
    "        except:\n",
    "            continue\n",
    "    \n",
    "    return title, author"
   ]
  },
  {
   "cell_type": "code",
   "execution_count": 61,
   "metadata": {},
   "outputs": [
    {
     "name": "stdout",
     "output_type": "stream",
     "text": [
      "***************************************\n",
      "617.txt\n",
      "title: Poems\n",
      "author: Alan Seeger\n",
      "{\"title\": \"Poems\", \"author\": \"Alan Seeger\", \"city_names\": [\"Mississippi\", \"New York\", \"Ariosto\", \"Death\", \"Tampico\", \"Merida\", \"Baghdad\", \"Darien\", \"Chaucer\", \"Flowing\", \"Desire\", \"U.S.\", \"Samarcand\", \"Faustine\", \"Precede\", \"M.S.\", \"Bruges\", \"England\", \"Serbia\", \"Craonne\", \"Morocco\", \"the United States\", \"London\", \"N.Y.\", \"Fairyland\", \"France\", \"Broceliande\", \"Algiers\", \"Canto\", \"Musing\", \"Oneata\", \"Tenochtitlan\", \"North\", \"Belize\", \"the Balkan States\", \"Venice\", \"Penelope\", \"Hibernia\", \"Power\", \"Salt Lake City\", \"Mexico City\", \"Spain\", \"Montparnasse\", \"Staten Island\", \"Toulouse\", \"the Mexico City\", \"Ixtaccihuatl\", \"Throbbing\", \"America\", \"Baudelaire\", \"Paris\", \"the Second Empire\", \"Elijah\", \"New York '\", \"Belgrade\", \"United States\", \"New Hampshire\", \"Orizaba\", \"Inferno\", \"Shut\", \"the United\\nStates\", \"Vivien\", \"Music\", \"Stood\", \"Sardinia\", \"Youth\", \"Proserpine\", \"Fools\", \"Mexico\", \"Mentana\", \"Quando\", \"Bohemia\", \"Florence\", \"Rome\", \"Manhattan\", \"Araby\", \"Pyrrho\", \"Washington\", \"Switzerland\", \"Belfort\", \"Havana\", \"Beauty\", \"Seville\", \"Kyrenaikos\\n  \", \"Phoenix\", \"Ceuta\", \"Arcturus\", \"Whitman\", \"the Isle of Pines\", \"Hindustan\", \"Picardie\", \"Tarrytown\", \"Spring\"]}\n",
      "big_files: 0\n",
      "total_errors: 0\n",
      "format_errors: 0\n",
      "encoding_errors: 0\n",
      "seconds: 6.486898\n",
      "minutes: 0.10811496666666667\n",
      "NO of files: 51\n"
     ]
    }
   ],
   "source": [
    "nlp = en_core_web_sm.load()\n",
    "\n",
    "now = datetime.datetime.now()\n",
    "\n",
    "\n",
    "books = []\n",
    "\n",
    "max_file_length = 100000 * 3\n",
    "\n",
    "txt_files = [f for f in listdir() if f.endswith(\".txt\")]\n",
    "\n",
    "large_files = 0\n",
    "total_errors = 0\n",
    "encoding_errors = 0\n",
    "format_errors = 0\n",
    "\n",
    "for file_name in txt_files:\n",
    "    file_name = \"617.txt\"\n",
    "    with open(file_name, 'r') as file:\n",
    "        print(\"***************************************\")\n",
    "        print(file_name)\n",
    "\n",
    "        try:\n",
    "            file_text = file.read()\n",
    "            \n",
    "            title, author = extract_details(file_text)\n",
    "            \n",
    "            if author == None or title == None:\n",
    "                format_errors += 1\n",
    "                total_errors += 1\n",
    "                print(file_name + \"********ERROR FINDING DETAILS*****************\")\n",
    "                continue\n",
    "            \n",
    "            #print(\"title: {}\".format(title))\n",
    "            #print(\"author: {}\".format(author))\n",
    "            \n",
    "            parts = create_chunks(file_text, max_file_length)\n",
    "            \n",
    "            if(len(file_text) >= max_file_length):\n",
    "                print(\"---------------FILE BIG---------------\")\n",
    "                large_files += 1\n",
    "            \n",
    "            city_names = []\n",
    "            \n",
    "            for t in parts:\n",
    "                city_names.extend(get_city_names(t))\n",
    "            \n",
    "            city_names = list(set(city_names))\n",
    "            \n",
    "            book = {\n",
    "                \"title\":title, \n",
    "                \"author\":author,\n",
    "                \"city_names\":city_names,\n",
    "            }\n",
    "            \n",
    "            books.append(book)\n",
    "            \n",
    "            print(json.dumps(book))\n",
    "            \n",
    "        except UnicodeDecodeError:\n",
    "            total_errors += 1\n",
    "            encoding_errors += 1\n",
    "            print(file_name + \"********ENCODING ERROR*****************\")\n",
    "    break\n",
    "            \n",
    "\n",
    "print(\"big_files: {}\".format(large_files))\n",
    "print(\"total_errors: {}\".format(total_errors))\n",
    "print(\"format_errors: {}\".format(total_errors))\n",
    "print(\"encoding_errors: {}\".format(total_errors))\n",
    "time_diff = datetime.datetime.now() - now\n",
    "print(\"seconds: {}\".format(time_diff.total_seconds()))\n",
    "print(\"minutes: {}\".format(time_diff.total_seconds()/60))\n",
    "print(\"NO of files: {}\".format(len(txt_files)))\n",
    "\n",
    "#print(json.dumps(books))\n",
    "\n",
    "with open(\"books_processed.json\", 'w') as fout: \n",
    "    fout.write(json.dumps(books))"
   ]
  },
  {
   "cell_type": "code",
   "execution_count": 60,
   "metadata": {},
   "outputs": [
    {
     "name": "stdout",
     "output_type": "stream",
     "text": [
      "done\n"
     ]
    }
   ],
   "source": [
    "print(\"done\")"
   ]
  },
  {
   "cell_type": "code",
   "execution_count": null,
   "metadata": {},
   "outputs": [],
   "source": []
  },
  {
   "cell_type": "code",
   "execution_count": null,
   "metadata": {},
   "outputs": [],
   "source": []
  },
  {
   "cell_type": "code",
   "execution_count": null,
   "metadata": {},
   "outputs": [],
   "source": [
    "from os import listdir\n",
    "import re\n",
    "import chardet\n",
    "import pandas as pd\n",
    "import datetime\n",
    "from city import City\n",
    "import mysql.connector\n",
    "from mysql.connector.cursor import MySQLCursorPrepared"
   ]
  },
  {
   "cell_type": "code",
   "execution_count": null,
   "metadata": {},
   "outputs": [],
   "source": [
    "now = datetime.datetime.now()"
   ]
  },
  {
   "cell_type": "code",
   "execution_count": null,
   "metadata": {},
   "outputs": [],
   "source": [
    "df = pd.read_csv(\"worldcitiespop.csv\")\n",
    "df.head(1)"
   ]
  },
  {
   "cell_type": "code",
   "execution_count": null,
   "metadata": {},
   "outputs": [],
   "source": [
    "df.count()[0]"
   ]
  },
  {
   "cell_type": "code",
   "execution_count": null,
   "metadata": {},
   "outputs": [],
   "source": [
    "df = df[df[\"AccentCity\"].notna()]\n",
    "df = df[df[\"Latitude\"].notna()]\n",
    "df = df[df[\"Longitude\"].notna()]\n",
    "df.count()[0]"
   ]
  },
  {
   "cell_type": "code",
   "execution_count": null,
   "metadata": {},
   "outputs": [],
   "source": [
    "df = df.sort_values([\"Population\"], ascending=False)\n",
    "df = df.drop_duplicates(subset=[\"AccentCity\"], keep=\"first\")"
   ]
  },
  {
   "cell_type": "code",
   "execution_count": null,
   "metadata": {},
   "outputs": [],
   "source": [
    "all_cities = set(df[\"AccentCity\"])"
   ]
  },
  {
   "cell_type": "code",
   "execution_count": null,
   "metadata": {},
   "outputs": [],
   "source": [
    "def extract_cities(file_text):\n",
    "    word_list = re.sub(\"[^\\w]\", \" \",  file_text).split()\n",
    "    return list(all_cities.intersection(word_list))"
   ]
  },
  {
   "cell_type": "code",
   "execution_count": null,
   "metadata": {},
   "outputs": [],
   "source": [
    "def extract_details(file_text):\n",
    "    re_patterns = [\n",
    "        \"[ ]{0,4}Title: (.+)\\n\\n[ ]{0,4}Author: ([^\\n]+)\\n\",\n",
    "        \"  We need your donations.\\n\\n\\n([^\\n]+)\\n\\nby ([^\\n]+)\\n\\n\",\n",
    "        \"\\n\\nTitle: (.+)\\nAuthor: (.+)\\nRelease Date: \",\n",
    "        \"\\n\\n\\n\\n\\n\\n[\\d]{4}\\n\\n()\\n\\nby ()\\n\\n\\nDramatis Personae\",\n",
    "    ]\n",
    "\n",
    "    title = None\n",
    "    author = None\n",
    "\n",
    "    for pattern in re_patterns:\n",
    "        try:\n",
    "            result = re.search(pattern, file_text, re.DOTALL)\n",
    "            title = result.group(1)\n",
    "            author = result.group(2)\n",
    "            break\n",
    "        except:\n",
    "            continue\n",
    "    \n",
    "    return title, author"
   ]
  },
  {
   "cell_type": "code",
   "execution_count": null,
   "metadata": {},
   "outputs": [],
   "source": [
    "txt_files = [f for f in listdir() if f.endswith(\".txt\")]\n",
    "#txt_files = [txt_files[0]]\n",
    "success = 0\n",
    "fail = 0\n",
    "\n",
    "encoding_failed = []\n",
    "regex_failed = []\n",
    "\n",
    "books = []\n",
    "\n",
    "for file_name in txt_files:\n",
    "    \n",
    "    with open(file_name, 'r') as file:\n",
    "        \n",
    "        try:\n",
    "            file_text = file.read()\n",
    "            \n",
    "            title, author = extract_details(file_text)\n",
    "            \n",
    "            if author == None or title == None:\n",
    "                print(file_name + \"******REGEX*************************************************\")\n",
    "                fail += 1\n",
    "                regex_failed.append(file_name)\n",
    "                continue\n",
    "            \n",
    "            print(file_name)\n",
    "            print(\"TITLE: \" + title)\n",
    "            print(\"AUTHOR: \" + author + \"\\n\")\n",
    "            \n",
    "            cities = extract_cities(file_text)\n",
    "            \n",
    "            \n",
    "            success += 1\n",
    "                \n",
    "        except:\n",
    "            print(file_name + \"********ENCODING***********************************************\")\n",
    "            fail += 1\n",
    "            encoding_failed.append(file_name)\n",
    "\n",
    "print(\"Succes: \" + str(success))\n",
    "print(\"Fail: \" + str(fail))\n",
    "print(\"regex_errors: \" + str(len(regex_failed)))\n",
    "print(\"encoding_error: \" + str(len(encoding_failed)))\n",
    "print(\"Total: \" + str(len(txt_files)))"
   ]
  },
  {
   "cell_type": "code",
   "execution_count": null,
   "metadata": {},
   "outputs": [],
   "source": [
    "regex_failed[:10]"
   ]
  },
  {
   "cell_type": "code",
   "execution_count": null,
   "metadata": {},
   "outputs": [],
   "source": [
    "encoding_failed[:10]"
   ]
  },
  {
   "cell_type": "code",
   "execution_count": null,
   "metadata": {},
   "outputs": [],
   "source": [
    "time_diff = datetime.datetime.now() - now\n",
    "time_diff.total_seconds() / 60"
   ]
  },
  {
   "cell_type": "code",
   "execution_count": null,
   "metadata": {},
   "outputs": [],
   "source": [
    "c = City(1, \"Berlin\", 2, 2)\n",
    "\n",
    "print(c.stringify())"
   ]
  },
  {
   "cell_type": "code",
   "execution_count": null,
   "metadata": {},
   "outputs": [],
   "source": [
    "con = mysql.connector.connect(\n",
    "    host=\"localhost\",\n",
    "    user=\"dbexamuser\",\n",
    "    database=\"examdb\",\n",
    "    passwd=\"dbExam.group7\",\n",
    "    use_pure=True,\n",
    ")\n",
    "con.autocommit = False\n",
    "mycursor = con.cursor(cursor_class=MySQLCursorPrepared)\n",
    "print(con) "
   ]
  },
  {
   "cell_type": "code",
   "execution_count": null,
   "metadata": {
    "scrolled": true
   },
   "outputs": [],
   "source": [
    "def insert_cities():\n",
    "    now = datetime.datetime.now()\n",
    "    large_sql = \"\"\n",
    "    counter = 1\n",
    "    interval_counter = 0\n",
    "    interval = 1000\n",
    "    \n",
    "    for i, row in df.iterrows():\n",
    "        city_name = row[\"AccentCity\"]\n",
    "        city_long = row[\"Longitude\"]\n",
    "        city_lat = row[\"Latitude\"]\n",
    "        #print(city_name)\n",
    "        #print(city_long)\n",
    "        #print(city_lat)\n",
    "        sql = \"\"\"INSERT INTO examdb.cities (name, location) \n",
    "            VALUES (%s, Point(%s , %s));\"\"\"\n",
    "        #sql = \"INSERT INTO authors (name) VALUES ('bob');\"\n",
    "        #large_sql += sql\n",
    "        \n",
    "        insert_values = (city_name, city_lat, city_long)\n",
    "        \n",
    "        #print(sql % insert_values)\n",
    "        #print(\"city name: \")\n",
    "        #print(type(city_name))\n",
    "        #print(counter)\n",
    "        \n",
    "        mycursor.execute(sql, insert_values)\n",
    "        #print(mycursor.statement)\n",
    "        \n",
    "        if (counter >= interval_counter + interval):\n",
    "            print(mycursor.statement)\n",
    "            con.commit()\n",
    "            interval_counter += interval\n",
    "            print(counter)\n",
    "            \n",
    "        counter += 1\n",
    "        \n",
    "    #print(large_sql)\n",
    "    #mycursor.execute(large_sql, multi = True)\n",
    "    con.commit()\n",
    "    \n",
    "    time_diff = datetime.datetime.now() - now\n",
    "    print(time_diff.total_seconds())\n",
    "\n",
    "insert_cities()"
   ]
  },
  {
   "cell_type": "code",
   "execution_count": null,
   "metadata": {},
   "outputs": [],
   "source": [
    "print(\"done\")"
   ]
  },
  {
   "cell_type": "code",
   "execution_count": null,
   "metadata": {},
   "outputs": [],
   "source": [
    "con.close()\n",
    "mycursor.close()"
   ]
  },
  {
   "cell_type": "code",
   "execution_count": null,
   "metadata": {},
   "outputs": [],
   "source": [
    "#df[df[\"Latitude\"] == 42.5833333]"
   ]
  },
  {
   "cell_type": "code",
   "execution_count": null,
   "metadata": {},
   "outputs": [],
   "source": []
  }
 ],
 "metadata": {
  "kernelspec": {
   "display_name": "Python 3",
   "language": "python",
   "name": "python3"
  },
  "language_info": {
   "codemirror_mode": {
    "name": "ipython",
    "version": 3
   },
   "file_extension": ".py",
   "mimetype": "text/x-python",
   "name": "python",
   "nbconvert_exporter": "python",
   "pygments_lexer": "ipython3",
   "version": "3.6.7"
  }
 },
 "nbformat": 4,
 "nbformat_minor": 2
}
